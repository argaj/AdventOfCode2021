{
 "cells": [
  {
   "cell_type": "code",
   "execution_count": 1,
   "metadata": {},
   "outputs": [],
   "source": [
    "from utils import load\n",
    "import numpy as np\n",
    "from time import time\n",
    "from collections import Counter, defaultdict"
   ]
  },
  {
   "cell_type": "code",
   "execution_count": 4,
   "metadata": {},
   "outputs": [
    {
     "name": "stdout",
     "output_type": "stream",
     "text": [
      "0.8673539161682129\n"
     ]
    },
    {
     "data": {
      "text/plain": [
       "351092"
      ]
     },
     "execution_count": 4,
     "metadata": {},
     "output_type": "execute_result"
    }
   ],
   "source": [
    "data = load('day06.txt')\n",
    "data = [int(i) for i in data[0].split(',')]\n",
    "\n",
    "start = time()\n",
    "for i in range(80):\n",
    "    new_fishes = 0\n",
    "    for i, fish in enumerate(data):\n",
    "        if data[i] == 0:\n",
    "            new_fishes += 1\n",
    "        data[i] -= 1\n",
    "    data = list(map(lambda x: 6 if x == -1 else x, data))    \n",
    "    data += [8] * new_fishes\n",
    "print(time() - start)   \n",
    "len(data)"
   ]
  },
  {
   "cell_type": "code",
   "execution_count": 44,
   "metadata": {},
   "outputs": [
    {
     "name": "stdout",
     "output_type": "stream",
     "text": [
      "0.03664827346801758\n"
     ]
    },
    {
     "data": {
      "text/plain": [
       "351092"
      ]
     },
     "execution_count": 44,
     "metadata": {},
     "output_type": "execute_result"
    }
   ],
   "source": [
    "data = load('day06.txt')\n",
    "data = [int(i) for i in data[0].split(',')]\n",
    "data = np.array(data)\n",
    "\n",
    "start = time()\n",
    "for i in range(80):\n",
    "    new_fishes = np.count_nonzero(data == 0)\n",
    "    data -= 1\n",
    "    data[data == -1] = 6\n",
    "    data = np.concatenate([data, [8] * new_fishes])\n",
    "print(time() - start)    \n",
    "len(data)"
   ]
  },
  {
   "cell_type": "code",
   "execution_count": 95,
   "metadata": {},
   "outputs": [
    {
     "name": "stdout",
     "output_type": "stream",
     "text": [
      "0.010717391967773438\n"
     ]
    },
    {
     "data": {
      "text/plain": [
       "1595330616005"
      ]
     },
     "execution_count": 95,
     "metadata": {},
     "output_type": "execute_result"
    }
   ],
   "source": [
    "data = load('day06.txt')\n",
    "data = [int(i) for i in data[0].split(',')]\n",
    "\n",
    "current_day = defaultdict(int, Counter(data))\n",
    "next_day = defaultdict(int)\n",
    "\n",
    "start = time()\n",
    "for i in range(256):\n",
    "    new_fishes = current_day[0]\n",
    "    for key in current_day.keys():\n",
    "        next_day[key-1] += current_day[key]\n",
    "        \n",
    "    next_day[6] += next_day[-1] \n",
    "    next_day[-1] = 0\n",
    "    \n",
    "    next_day[8] += new_fishes\n",
    "        \n",
    "    current_day = next_day\n",
    "    next_day = defaultdict(int)\n",
    "print(time() - start)  \n",
    "sum(current_day.values())"
   ]
  },
  {
   "cell_type": "code",
   "execution_count": null,
   "metadata": {},
   "outputs": [],
   "source": []
  }
 ],
 "metadata": {
  "kernelspec": {
   "display_name": "Python 3",
   "language": "python",
   "name": "python3"
  },
  "language_info": {
   "codemirror_mode": {
    "name": "ipython",
    "version": 3
   },
   "file_extension": ".py",
   "mimetype": "text/x-python",
   "name": "python",
   "nbconvert_exporter": "python",
   "pygments_lexer": "ipython3",
   "version": "3.8.10"
  }
 },
 "nbformat": 4,
 "nbformat_minor": 4
}
