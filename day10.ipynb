{
 "cells": [
  {
   "cell_type": "code",
   "execution_count": 65,
   "metadata": {},
   "outputs": [],
   "source": [
    "from utils import load\n",
    "import numpy as np"
   ]
  },
  {
   "cell_type": "code",
   "execution_count": 67,
   "metadata": {},
   "outputs": [],
   "source": [
    "data = load('day10.txt')"
   ]
  },
  {
   "cell_type": "code",
   "execution_count": 68,
   "metadata": {},
   "outputs": [],
   "source": [
    "opening_chars = {'(', '[', '{', '<'}\n",
    "closing_chars = {')', ']', '}', '>'}"
   ]
  },
  {
   "cell_type": "code",
   "execution_count": 69,
   "metadata": {},
   "outputs": [],
   "source": [
    "brackets = {'(': ')', '[': ']', '{': '}', '<': '>'}"
   ]
  },
  {
   "cell_type": "code",
   "execution_count": 70,
   "metadata": {},
   "outputs": [],
   "source": [
    "score = {')': 3,\n",
    "         ']': 57,\n",
    "         '}': 1197,\n",
    "         '>': 25137}"
   ]
  },
  {
   "cell_type": "code",
   "execution_count": 71,
   "metadata": {},
   "outputs": [],
   "source": [
    "syntax_error_score = 0\n",
    "data_pt2 = []\n",
    "for line in data:\n",
    "    data_pt2.append(line)\n",
    "    stack = []\n",
    "    for c in line:\n",
    "        if c in opening_chars:\n",
    "            stack.append(c)\n",
    "        else:\n",
    "            last_opening = stack.pop()\n",
    "            if c != brackets[last_opening]:\n",
    "                # print(f'syntax error, expected {brackets[last_opening]}, but found {c} instead')\n",
    "                syntax_error_score += score[c]\n",
    "                data_pt2.pop()\n",
    "                break"
   ]
  },
  {
   "cell_type": "code",
   "execution_count": 72,
   "metadata": {},
   "outputs": [
    {
     "data": {
      "text/plain": [
       "319233"
      ]
     },
     "execution_count": 72,
     "metadata": {},
     "output_type": "execute_result"
    }
   ],
   "source": [
    "syntax_error_score"
   ]
  },
  {
   "cell_type": "code",
   "execution_count": 73,
   "metadata": {},
   "outputs": [],
   "source": [
    "completion_score = score = {')': 1,\n",
    "                            ']': 2,\n",
    "                            '}': 3,\n",
    "                            '>': 4}"
   ]
  },
  {
   "cell_type": "code",
   "execution_count": 74,
   "metadata": {},
   "outputs": [],
   "source": [
    "total_scores = []\n",
    "for line in data_pt2:\n",
    "    total_score = 0\n",
    "    stack = []\n",
    "    for c in line:\n",
    "        if c in opening_chars:\n",
    "            stack.append(c)\n",
    "        else:\n",
    "            last_opening = stack.pop()\n",
    "    for i in range(len(stack)):\n",
    "        c = stack.pop()\n",
    "        total_score = total_score * 5 + completion_score[brackets[c]]\n",
    "    total_scores.append(total_score)"
   ]
  },
  {
   "cell_type": "code",
   "execution_count": 76,
   "metadata": {},
   "outputs": [
    {
     "data": {
      "text/plain": [
       "1118976874"
      ]
     },
     "execution_count": 76,
     "metadata": {},
     "output_type": "execute_result"
    }
   ],
   "source": [
    "int(np.median(total_scores))"
   ]
  },
  {
   "cell_type": "code",
   "execution_count": null,
   "metadata": {},
   "outputs": [],
   "source": []
  }
 ],
 "metadata": {
  "kernelspec": {
   "display_name": "Python 3",
   "language": "python",
   "name": "python3"
  },
  "language_info": {
   "codemirror_mode": {
    "name": "ipython",
    "version": 3
   },
   "file_extension": ".py",
   "mimetype": "text/x-python",
   "name": "python",
   "nbconvert_exporter": "python",
   "pygments_lexer": "ipython3",
   "version": "3.8.10"
  }
 },
 "nbformat": 4,
 "nbformat_minor": 4
}
