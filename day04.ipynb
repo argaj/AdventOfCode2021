{
 "cells": [
  {
   "cell_type": "code",
   "execution_count": 6,
   "metadata": {},
   "outputs": [],
   "source": [
    "from utils import load\n",
    "import numpy as np"
   ]
  },
  {
   "cell_type": "code",
   "execution_count": 2,
   "metadata": {},
   "outputs": [],
   "source": [
    "data = load('day04.txt')"
   ]
  },
  {
   "cell_type": "code",
   "execution_count": 84,
   "metadata": {},
   "outputs": [],
   "source": [
    "def process(data):\n",
    "    arr = []\n",
    "    numbers = list(map(int, data[0].split(',')))\n",
    "    for i in range(2, len(data), 6):\n",
    "        arr.append(np.array([list(map(int, row.split())) for row in data[i:i+5]]))\n",
    "    arr = np.array(arr)\n",
    "    return numbers, arr"
   ]
  },
  {
   "cell_type": "code",
   "execution_count": 132,
   "metadata": {},
   "outputs": [],
   "source": [
    "numbers, arr = process(data)"
   ]
  },
  {
   "cell_type": "code",
   "execution_count": 167,
   "metadata": {},
   "outputs": [],
   "source": [
    "mask = np.zeros(arr.shape, dtype=bool)\n",
    "last_nr = -1\n",
    "for n in numbers:\n",
    "    mask += np.ma.masked_where(arr == n, arr).mask\n",
    "    filled_cols = np.where(mask.sum(axis=1, keepdims=True) == 5)\n",
    "    filled_rows = np.where(mask.sum(axis=2, keepdims=True) == 5)\n",
    "    if filled_cols[0].size > 0 or filled_rows[0].size > 0:\n",
    "        last_nr = n\n",
    "        break"
   ]
  },
  {
   "cell_type": "code",
   "execution_count": 168,
   "metadata": {},
   "outputs": [
    {
     "name": "stdout",
     "output_type": "stream",
     "text": [
      "[]\n",
      "[43]\n",
      "94\n"
     ]
    }
   ],
   "source": [
    "print(np.where(mask.sum(axis=1, keepdims=True) == 5)[0])\n",
    "print(np.where(mask.sum(axis=2, keepdims=True) == 5)[0])\n",
    "print(last_nr)"
   ]
  },
  {
   "cell_type": "code",
   "execution_count": 169,
   "metadata": {},
   "outputs": [
    {
     "data": {
      "text/plain": [
       "58374"
      ]
     },
     "execution_count": 169,
     "metadata": {},
     "output_type": "execute_result"
    }
   ],
   "source": [
    "arr[43][~mask[43]].sum() * last_nr"
   ]
  },
  {
   "cell_type": "code",
   "execution_count": 179,
   "metadata": {},
   "outputs": [
    {
     "name": "stdout",
     "output_type": "stream",
     "text": [
      "{16} 31\n"
     ]
    }
   ],
   "source": [
    "mask = np.zeros(arr.shape, dtype=bool)\n",
    "last_nr = -1\n",
    "boards = set(range(arr.shape[0]))\n",
    "for n in numbers:\n",
    "    mask += np.ma.masked_where(arr == n, arr).mask\n",
    "    filled_cols = np.where(mask.sum(axis=1, keepdims=True) == 5)\n",
    "    filled_rows = np.where(mask.sum(axis=2, keepdims=True) == 5)\n",
    "    if filled_cols[0].size > 0 or filled_rows[0].size > 0:\n",
    "        last_nr = n\n",
    "        if not (boards - set(filled_cols[0])) or not (boards - set(filled_rows[0])):\n",
    "            print(boards, last_nr)\n",
    "            break\n",
    "        boards -= set(filled_cols[0])\n",
    "        boards -= set(filled_rows[0])"
   ]
  },
  {
   "cell_type": "code",
   "execution_count": 182,
   "metadata": {},
   "outputs": [
    {
     "data": {
      "text/plain": [
       "11377"
      ]
     },
     "execution_count": 182,
     "metadata": {},
     "output_type": "execute_result"
    }
   ],
   "source": [
    "arr[16][~mask[16]].sum() * last_nr"
   ]
  },
  {
   "cell_type": "code",
   "execution_count": null,
   "metadata": {},
   "outputs": [],
   "source": []
  }
 ],
 "metadata": {
  "kernelspec": {
   "display_name": "Python 3",
   "language": "python",
   "name": "python3"
  },
  "language_info": {
   "codemirror_mode": {
    "name": "ipython",
    "version": 3
   },
   "file_extension": ".py",
   "mimetype": "text/x-python",
   "name": "python",
   "nbconvert_exporter": "python",
   "pygments_lexer": "ipython3",
   "version": "3.8.10"
  }
 },
 "nbformat": 4,
 "nbformat_minor": 4
}
