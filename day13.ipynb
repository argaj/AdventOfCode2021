{
 "cells": [
  {
   "cell_type": "code",
   "execution_count": 23,
   "metadata": {},
   "outputs": [],
   "source": [
    "from utils import load\n",
    "import numpy as np"
   ]
  },
  {
   "cell_type": "code",
   "execution_count": 90,
   "metadata": {},
   "outputs": [],
   "source": [
    "data = load('day13.txt')"
   ]
  },
  {
   "cell_type": "code",
   "execution_count": 109,
   "metadata": {},
   "outputs": [],
   "source": [
    "dots = data[:data.index('')]\n",
    "dots = [[int(i) for i in line.split(',')] for line in dots]\n",
    "folds = data[data.index('')+1:]\n",
    "folds = [[i[i.index('=')-1], int(i[i.index('=')+1:])] for i in folds]"
   ]
  },
  {
   "cell_type": "code",
   "execution_count": 110,
   "metadata": {},
   "outputs": [],
   "source": [
    "cols, rows = np.array(dots).max(axis=0)+1"
   ]
  },
  {
   "cell_type": "code",
   "execution_count": 111,
   "metadata": {},
   "outputs": [],
   "source": [
    "paper = np.zeros((rows, cols), dtype=bool)\n",
    "for c, r in dots:\n",
    "    paper[r, c] = True"
   ]
  },
  {
   "cell_type": "code",
   "execution_count": 112,
   "metadata": {},
   "outputs": [
    {
     "data": {
      "text/plain": [
       "(895, 1311)"
      ]
     },
     "execution_count": 112,
     "metadata": {},
     "output_type": "execute_result"
    }
   ],
   "source": [
    "paper.shape"
   ]
  },
  {
   "cell_type": "code",
   "execution_count": 113,
   "metadata": {},
   "outputs": [],
   "source": [
    "if folds[0][0] == 'y':\n",
    "    upper = paper[:folds[0][1], :]\n",
    "    lower = paper[folds[0][1]+1:, :]\n",
    "else:\n",
    "    left = paper[:, :folds[0][1]]\n",
    "    right = paper[:, folds[0][1]+1:]"
   ]
  },
  {
   "cell_type": "code",
   "execution_count": 114,
   "metadata": {},
   "outputs": [
    {
     "data": {
      "text/plain": [
       "17"
      ]
     },
     "execution_count": 114,
     "metadata": {},
     "output_type": "execute_result"
    }
   ],
   "source": [
    "# (upper + np.flip(lower, axis=0)).sum() # Test"
   ]
  },
  {
   "cell_type": "code",
   "execution_count": 116,
   "metadata": {},
   "outputs": [
    {
     "data": {
      "text/plain": [
       "743"
      ]
     },
     "execution_count": 116,
     "metadata": {},
     "output_type": "execute_result"
    }
   ],
   "source": [
    "(left + np.flip(right, axis=1)).sum()"
   ]
  },
  {
   "cell_type": "code",
   "execution_count": 121,
   "metadata": {},
   "outputs": [],
   "source": [
    "paper = np.zeros((rows, cols), dtype=bool)\n",
    "for c, r in dots:\n",
    "    paper[r, c] = True\n",
    "for fold in folds:\n",
    "    if fold[0] == 'y':\n",
    "        upper = paper[:fold[1], :]\n",
    "        lower = paper[fold[1]+1:, :]\n",
    "        paper = upper + np.flip(lower, axis=0)\n",
    "    else:\n",
    "        left = paper[:, :fold[1]]\n",
    "        right = paper[:, fold[1]+1:]\n",
    "        paper = left + np.flip(right, axis=1)"
   ]
  },
  {
   "cell_type": "code",
   "execution_count": 131,
   "metadata": {},
   "outputs": [],
   "source": [
    "sol = paper.astype(int).astype(str)\n",
    "sol[sol == '1'] = '#'\n",
    "sol[sol == '0'] = '.'"
   ]
  },
  {
   "cell_type": "code",
   "execution_count": 135,
   "metadata": {},
   "outputs": [],
   "source": [
    "np.savetxt('sol.txt', sol, fmt='%s', delimiter=\"\")"
   ]
  },
  {
   "cell_type": "code",
   "execution_count": null,
   "metadata": {},
   "outputs": [],
   "source": []
  }
 ],
 "metadata": {
  "kernelspec": {
   "display_name": "Python 3",
   "language": "python",
   "name": "python3"
  },
  "language_info": {
   "codemirror_mode": {
    "name": "ipython",
    "version": 3
   },
   "file_extension": ".py",
   "mimetype": "text/x-python",
   "name": "python",
   "nbconvert_exporter": "python",
   "pygments_lexer": "ipython3",
   "version": "3.8.10"
  }
 },
 "nbformat": 4,
 "nbformat_minor": 4
}
