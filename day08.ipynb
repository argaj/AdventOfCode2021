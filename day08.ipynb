{
 "cells": [
  {
   "cell_type": "code",
   "execution_count": 20,
   "metadata": {},
   "outputs": [],
   "source": [
    "from utils import load\n",
    "import itertools\n",
    "from collections import Counter"
   ]
  },
  {
   "cell_type": "code",
   "execution_count": 2,
   "metadata": {},
   "outputs": [],
   "source": [
    "data = load('day08.txt')"
   ]
  },
  {
   "cell_type": "code",
   "execution_count": 6,
   "metadata": {},
   "outputs": [],
   "source": [
    "def process(row):\n",
    "    row = row.split(' | ')\n",
    "    row = [i.split() for i in row]\n",
    "    return row"
   ]
  },
  {
   "cell_type": "code",
   "execution_count": 8,
   "metadata": {},
   "outputs": [],
   "source": [
    "data = list(map(process, data))"
   ]
  },
  {
   "cell_type": "code",
   "execution_count": 18,
   "metadata": {},
   "outputs": [],
   "source": [
    "lengths = [list(map(len, i[1])) for i in data]\n",
    "lengths = list(itertools.chain.from_iterable(lengths))"
   ]
  },
  {
   "cell_type": "code",
   "execution_count": 21,
   "metadata": {},
   "outputs": [],
   "source": [
    "counts = Counter(lengths) "
   ]
  },
  {
   "cell_type": "code",
   "execution_count": 25,
   "metadata": {},
   "outputs": [
    {
     "data": {
      "text/plain": [
       "473"
      ]
     },
     "execution_count": 25,
     "metadata": {},
     "output_type": "execute_result"
    }
   ],
   "source": [
    "counts[2] + counts[4] + counts[3] + counts[7] "
   ]
  },
  {
   "cell_type": "code",
   "execution_count": 75,
   "metadata": {},
   "outputs": [],
   "source": [
    "def map_signal(signal, mapping):\n",
    "    return ''.join([mapping[c] for c in signal])"
   ]
  },
  {
   "cell_type": "code",
   "execution_count": 96,
   "metadata": {},
   "outputs": [],
   "source": [
    "def signal_to_num(signal):\n",
    "    signal = ''.join(sorted(signal))\n",
    "    \n",
    "    mapping = {}\n",
    "    mapping['abcefg'] = 0\n",
    "    mapping['cf'] = 1\n",
    "    mapping['acdeg'] = 2\n",
    "    mapping['acdfg'] = 3\n",
    "    mapping['bcdf'] = 4\n",
    "    mapping['abdfg'] = 5\n",
    "    mapping['abdefg'] = 6\n",
    "    mapping['acf'] = 7\n",
    "    mapping['abcdefg'] = 8\n",
    "    mapping['abcdfg'] = 9\n",
    "    \n",
    "    return mapping[signal]"
   ]
  },
  {
   "cell_type": "code",
   "execution_count": 172,
   "metadata": {},
   "outputs": [],
   "source": [
    "def decipher_row(row):\n",
    "    signals, output = row\n",
    "    signals = sorted(signals, key=len)\n",
    "    good_mapping = None\n",
    "    mapping = {}\n",
    "    mapping[list(set(signals[1])-set(signals[0]))[0]] = 'a'\n",
    "    for i in itertools.permutations(signals[0]):\n",
    "        mapping[i[0]] = 'c'\n",
    "        mapping[i[1]] = 'f'\n",
    "        for j in itertools.permutations(set(signals[2]) - set(signals[0])):\n",
    "            mapping[j[0]] = 'b'\n",
    "            mapping[j[1]] = 'd'\n",
    "            for k in itertools.permutations(set(signals[-1]) - set(signals[2]) - set(signals[1])):\n",
    "                mapping[k[0]] = 'e'\n",
    "                mapping[k[1]] = 'g'            \n",
    "                try:\n",
    "                    return [signal_to_num(''.join(sorted(map_signal(o, mapping)))) for o in output]\n",
    "                except KeyError:\n",
    "                    pass"
   ]
  },
  {
   "cell_type": "code",
   "execution_count": 179,
   "metadata": {},
   "outputs": [
    {
     "data": {
      "text/plain": [
       "1097568"
      ]
     },
     "execution_count": 179,
     "metadata": {},
     "output_type": "execute_result"
    }
   ],
   "source": [
    "sum([int(''.join(map(str,decipher_row(row)))) for row in data])"
   ]
  },
  {
   "cell_type": "code",
   "execution_count": null,
   "metadata": {},
   "outputs": [],
   "source": []
  }
 ],
 "metadata": {
  "kernelspec": {
   "display_name": "Python 3",
   "language": "python",
   "name": "python3"
  },
  "language_info": {
   "codemirror_mode": {
    "name": "ipython",
    "version": 3
   },
   "file_extension": ".py",
   "mimetype": "text/x-python",
   "name": "python",
   "nbconvert_exporter": "python",
   "pygments_lexer": "ipython3",
   "version": "3.8.10"
  }
 },
 "nbformat": 4,
 "nbformat_minor": 4
}
