{
 "cells": [
  {
   "cell_type": "code",
   "execution_count": 268,
   "metadata": {},
   "outputs": [],
   "source": [
    "from utils import load\n",
    "import numpy as np\n",
    "from scipy.ndimage import convolve"
   ]
  },
  {
   "cell_type": "code",
   "execution_count": 321,
   "metadata": {},
   "outputs": [],
   "source": [
    "data = load('day20.txt')\n",
    "lookup = [1 if c == '#' else 0 for c in data[0]]\n",
    "image = np.array([[1 if c == '#' else 0 for c in line] for line in data[2:]])"
   ]
  },
  {
   "cell_type": "code",
   "execution_count": 329,
   "metadata": {},
   "outputs": [],
   "source": [
    "# https://stackoverflow.com/questions/20036663/understanding-numpys-convolve\n",
    "# In convolution, first signal (kernel) is reversed\n",
    "mask = [[1, 2, 4],\n",
    "        [8, 16, 32],\n",
    "        [64, 128, 256]]"
   ]
  },
  {
   "cell_type": "code",
   "execution_count": 330,
   "metadata": {},
   "outputs": [],
   "source": [
    "def enhance(image, lookup, n):\n",
    "    for i in range(n):\n",
    "        image = np.pad(image, 2, constant_values=i % 2 if lookup[0] == 1 else 0)\n",
    "        windows = np.lib.stride_tricks.sliding_window_view(image, (3,3)).reshape(-1, 3, 3)\n",
    "        new_size = int(np.sqrt(windows.shape[0]))    \n",
    "        windows = [''.join(window.flatten().astype(str)) for window in windows]\n",
    "        image = np.array([lookup[int(b, 2)] for b in windows]).reshape(new_size, new_size)\n",
    "    return image"
   ]
  },
  {
   "cell_type": "code",
   "execution_count": 341,
   "metadata": {},
   "outputs": [],
   "source": [
    "def enhance2(image, lookup, n):\n",
    "    lookup_f = np.vectorize(lambda x: lookup[x])\n",
    "    for i in range(n):\n",
    "        image = np.pad(image, 1, constant_values=i % 2 if lookup[0] == 1 else 0)\n",
    "        image = convolve(image, mask, mode='constant', cval=i % 2 if lookup[0] == 1 else 0)\n",
    "        image = lookup_f(image)\n",
    "    return image"
   ]
  },
  {
   "cell_type": "code",
   "execution_count": 336,
   "metadata": {},
   "outputs": [
    {
     "data": {
      "text/plain": [
       "5225"
      ]
     },
     "execution_count": 336,
     "metadata": {},
     "output_type": "execute_result"
    }
   ],
   "source": [
    "enhance2(image, lookup, 2).sum()"
   ]
  },
  {
   "cell_type": "code",
   "execution_count": 342,
   "metadata": {},
   "outputs": [
    {
     "data": {
      "text/plain": [
       "18131"
      ]
     },
     "execution_count": 342,
     "metadata": {},
     "output_type": "execute_result"
    }
   ],
   "source": [
    "enhance2(image, lookup, 50).sum()"
   ]
  },
  {
   "cell_type": "code",
   "execution_count": null,
   "metadata": {},
   "outputs": [],
   "source": []
  }
 ],
 "metadata": {
  "kernelspec": {
   "display_name": "Python 3",
   "language": "python",
   "name": "python3"
  },
  "language_info": {
   "codemirror_mode": {
    "name": "ipython",
    "version": 3
   },
   "file_extension": ".py",
   "mimetype": "text/x-python",
   "name": "python",
   "nbconvert_exporter": "python",
   "pygments_lexer": "ipython3",
   "version": "3.8.10"
  }
 },
 "nbformat": 4,
 "nbformat_minor": 4
}
