{
 "cells": [
  {
   "cell_type": "code",
   "execution_count": 91,
   "metadata": {},
   "outputs": [],
   "source": [
    "from utils import load\n",
    "from itertools import tee\n",
    "from collections import Counter, defaultdict"
   ]
  },
  {
   "cell_type": "code",
   "execution_count": 13,
   "metadata": {},
   "outputs": [],
   "source": [
    "def pairwise(iterable):\n",
    "    \"s -> (s0,s1), (s1,s2), (s2, s3), ...\"\n",
    "    a, b = tee(iterable)\n",
    "    next(b, None)\n",
    "    return zip(a, b)"
   ]
  },
  {
   "cell_type": "code",
   "execution_count": 208,
   "metadata": {},
   "outputs": [],
   "source": [
    "data = load('day14.txt')"
   ]
  },
  {
   "cell_type": "code",
   "execution_count": 209,
   "metadata": {},
   "outputs": [],
   "source": [
    "template = data[0]\n",
    "rules = data[2:]\n",
    "rules = dict([rule.split(' -> ') for rule in rules])"
   ]
  },
  {
   "cell_type": "code",
   "execution_count": 210,
   "metadata": {},
   "outputs": [],
   "source": [
    "def part1(template, rules, steps):\n",
    "    for i in range(steps):\n",
    "        new_template = ''\n",
    "        for pair in pairwise(template):\n",
    "            #print(''.join(pair))\n",
    "            pair = ''.join(pair)\n",
    "            pair = pair[0] + rules[pair] if pair in rules else pair[0]\n",
    "            new_template += pair\n",
    "        template = new_template + template[-1]\n",
    "    counts = Counter(template).values()\n",
    "    return max(counts) - min(counts)"
   ]
  },
  {
   "cell_type": "code",
   "execution_count": 211,
   "metadata": {},
   "outputs": [
    {
     "data": {
      "text/plain": [
       "2027"
      ]
     },
     "execution_count": 211,
     "metadata": {},
     "output_type": "execute_result"
    }
   ],
   "source": [
    "part1(template, rules, steps=10)"
   ]
  },
  {
   "cell_type": "code",
   "execution_count": 206,
   "metadata": {},
   "outputs": [],
   "source": [
    "def part2(template, rules, steps):\n",
    "    pairs = defaultdict(int)\n",
    "    for pair in pairwise(template):\n",
    "        pairs[''.join(pair)] += 1\n",
    "\n",
    "    counts = defaultdict(int)\n",
    "    for c in template:\n",
    "        counts[c] += 1\n",
    "\n",
    "    for i in range(steps):\n",
    "        new_pairs = defaultdict(int)\n",
    "        for pair in pairs.keys():\n",
    "            if pair in rules:\n",
    "                n = pairs[pair]\n",
    "                new_pairs[''.join([pair[0], rules[pair]])] += n\n",
    "                new_pairs[''.join([rules[pair], pair[1]])] += n\n",
    "                counts[rules[pair]] += n\n",
    "        pairs = new_pairs\n",
    "    return max(counts.values()) - min(counts.values())"
   ]
  },
  {
   "cell_type": "code",
   "execution_count": 212,
   "metadata": {},
   "outputs": [
    {
     "data": {
      "text/plain": [
       "2027"
      ]
     },
     "execution_count": 212,
     "metadata": {},
     "output_type": "execute_result"
    }
   ],
   "source": [
    "part2(template, rules, steps=10)"
   ]
  },
  {
   "cell_type": "code",
   "execution_count": 215,
   "metadata": {},
   "outputs": [
    {
     "data": {
      "text/plain": [
       "2265039461737"
      ]
     },
     "execution_count": 215,
     "metadata": {},
     "output_type": "execute_result"
    }
   ],
   "source": [
    "part2(template, rules, steps=40)"
   ]
  },
  {
   "cell_type": "code",
   "execution_count": null,
   "metadata": {},
   "outputs": [],
   "source": []
  }
 ],
 "metadata": {
  "kernelspec": {
   "display_name": "Python 3",
   "language": "python",
   "name": "python3"
  },
  "language_info": {
   "codemirror_mode": {
    "name": "ipython",
    "version": 3
   },
   "file_extension": ".py",
   "mimetype": "text/x-python",
   "name": "python",
   "nbconvert_exporter": "python",
   "pygments_lexer": "ipython3",
   "version": "3.8.10"
  }
 },
 "nbformat": 4,
 "nbformat_minor": 4
}
