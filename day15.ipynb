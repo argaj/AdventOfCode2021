{
 "cells": [
  {
   "cell_type": "code",
   "execution_count": 327,
   "metadata": {},
   "outputs": [],
   "source": [
    "from utils import load\n",
    "import numpy as np\n",
    "import networkx as nx"
   ]
  },
  {
   "cell_type": "code",
   "execution_count": 446,
   "metadata": {},
   "outputs": [],
   "source": [
    "data = load('day15.txt')\n",
    "data = [[int(c) for c in line] for line in data]\n",
    "data = np.array([[int(c) for c in line] for line in data], dtype=int)"
   ]
  },
  {
   "cell_type": "code",
   "execution_count": 447,
   "metadata": {},
   "outputs": [],
   "source": [
    "size = len(data)"
   ]
  },
  {
   "cell_type": "code",
   "execution_count": 448,
   "metadata": {},
   "outputs": [],
   "source": [
    "# Faulty, only considers moving down and right (worked for pt1 though xD) \n",
    "\n",
    "cum_risk = np.copy(data)\n",
    "cum_risk[0, 0] = 0\n",
    "for i in range(1, size):\n",
    "    cum_risk[0, i] += cum_risk[0, i - 1]\n",
    "    cum_risk[i, 0] += cum_risk[i - 1, 0]\n",
    "for r in range(1, size):\n",
    "    for c in range(1, size):\n",
    "        cum_risk[r, c] += min(cum_risk[r, c - 1], cum_risk[r - 1, c])"
   ]
  },
  {
   "cell_type": "code",
   "execution_count": 449,
   "metadata": {},
   "outputs": [
    {
     "data": {
      "text/plain": [
       "592"
      ]
     },
     "execution_count": 449,
     "metadata": {},
     "output_type": "execute_result"
    }
   ],
   "source": [
    "cum_risk[-1, -1]"
   ]
  },
  {
   "cell_type": "code",
   "execution_count": 450,
   "metadata": {},
   "outputs": [],
   "source": [
    "data2 = np.hstack([data + i for i in range(5)])\n",
    "data2 = np.vstack([data2 + i for i in range(5)])\n",
    "data2[data2 > 9] = data2[data2 > 9] - 9"
   ]
  },
  {
   "cell_type": "code",
   "execution_count": 451,
   "metadata": {},
   "outputs": [],
   "source": [
    "size2 = len(data2)"
   ]
  },
  {
   "cell_type": "code",
   "execution_count": 452,
   "metadata": {},
   "outputs": [],
   "source": [
    "def gen_nx_graph(data):\n",
    "    G = nx.DiGraph()\n",
    "    for y in range(len(data)):\n",
    "        for x in range(len(data)):\n",
    "            G.add_node((x, y))\n",
    "\n",
    "            for dx, dy in [(-1, 0), (1, 0), (0, -1), (0, 1)]:\n",
    "                x_, y_ = x + dx, y + dy\n",
    "                if 0 <= x_ < len(data) and 0 <= y_ < len(data):\n",
    "                    G.add_edge((x, y), (x_, y_), w=data[x_][y_])\n",
    "    return G"
   ]
  },
  {
   "cell_type": "code",
   "execution_count": 453,
   "metadata": {},
   "outputs": [
    {
     "data": {
      "text/plain": [
       "2897"
      ]
     },
     "execution_count": 453,
     "metadata": {},
     "output_type": "execute_result"
    }
   ],
   "source": [
    "G = gen_nx_graph(data2.tolist())\n",
    "shortest_path = nx.shortest_path(G, source=(0, 0), target=(size2-1, size2-1), weight='w')\n",
    "sum([data2[i,j] for i,j in shortest_path[1:]])"
   ]
  },
  {
   "cell_type": "code",
   "execution_count": 420,
   "metadata": {},
   "outputs": [],
   "source": [
    "# FIXXXXXXXXXXXXXXXXX\n",
    "G = nx.grid_2d_graph(size2, size2)\n",
    "for r in range(size2):\n",
    "    for c in range(size2):\n",
    "        for dr, dc in [(-1, 0), (1, 0), (0, -1), (0, 1)]:\n",
    "            r_, c_ = r + dr, c + dc\n",
    "            if 0 <= r_ < size2 and 0 <= c_ < size2:\n",
    "                G[(r, c)][(r_, c_)]['w'] = data2[c_, r_]"
   ]
  },
  {
   "cell_type": "code",
   "execution_count": null,
   "metadata": {},
   "outputs": [],
   "source": []
  }
 ],
 "metadata": {
  "kernelspec": {
   "display_name": "Python 3",
   "language": "python",
   "name": "python3"
  },
  "language_info": {
   "codemirror_mode": {
    "name": "ipython",
    "version": 3
   },
   "file_extension": ".py",
   "mimetype": "text/x-python",
   "name": "python",
   "nbconvert_exporter": "python",
   "pygments_lexer": "ipython3",
   "version": "3.8.10"
  }
 },
 "nbformat": 4,
 "nbformat_minor": 4
}
