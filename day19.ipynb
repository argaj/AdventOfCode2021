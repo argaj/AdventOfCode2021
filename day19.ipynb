{
 "cells": [
  {
   "cell_type": "code",
   "execution_count": 23,
   "metadata": {},
   "outputs": [],
   "source": [
    "import numpy as np\n",
    "from itertools import product, permutations, combinations"
   ]
  },
  {
   "cell_type": "code",
   "execution_count": 9,
   "metadata": {},
   "outputs": [],
   "source": [
    "with open('day19.txt') as f:\n",
    "    data = f.read()"
   ]
  },
  {
   "cell_type": "code",
   "execution_count": 10,
   "metadata": {},
   "outputs": [],
   "source": [
    "scanners = [scanner.splitlines()[1:] for scanner in data.split('\\n\\n')]\n",
    "scanners = [{tuple(map(int, line.split(','))) for line in scanner} for scanner in scanners]"
   ]
  },
  {
   "cell_type": "code",
   "execution_count": 11,
   "metadata": {},
   "outputs": [],
   "source": [
    "def permutation_parity(arr):\n",
    "    arr = np.asarray(arr)\n",
    "    l = arr.size\n",
    "    i, j = np.tril_indices(l, -1)\n",
    "    return np.product(np.sign(arr[i] - arr[j]))\n",
    "\n",
    "def generate_rotations2():\n",
    "    for permut in permutations(range(3)):\n",
    "        for signs in product([-1, 1], repeat=2):\n",
    "            sign_parity = 1 if signs.count(-1) % 2 == 0 else -1\n",
    "            last_sign = permutation_parity(permut) * sign_parity\n",
    "            signs = signs + (last_sign,)\n",
    "            yield np.eye(3, dtype=int)[:, permut] * signs"
   ]
  },
  {
   "cell_type": "code",
   "execution_count": 12,
   "metadata": {},
   "outputs": [],
   "source": [
    "def generate_rotations(sc):\n",
    "    for permut in permutations(range(3)):\n",
    "        for sign in product([-1, 1], repeat=3):\n",
    "            rot_mat = np.eye(3, dtype=int)[:, permut] * sign\n",
    "            if np.linalg.det(rot_mat) == 1:\n",
    "                yield {tuple(rot_mat @ beacon) for beacon in sc}"
   ]
  },
  {
   "cell_type": "code",
   "execution_count": 13,
   "metadata": {},
   "outputs": [],
   "source": [
    "def sub(x, y):\n",
    "    return tuple(a - b for a, b in zip(x, y))"
   ]
  },
  {
   "cell_type": "code",
   "execution_count": 16,
   "metadata": {},
   "outputs": [],
   "source": [
    "def match(sc1, sc2):\n",
    "    for sc2 in generate_rotations(sc2):\n",
    "        for b1 in sc1:\n",
    "            for b2 in sc2:\n",
    "                offset = sub(b2, b1)\n",
    "                b2_off = {sub(b, offset) for b in sc2}\n",
    "                if len(b2_off & sc1) >= 12:\n",
    "                    return b2_off, offset\n",
    "    return None, None"
   ]
  },
  {
   "cell_type": "code",
   "execution_count": 17,
   "metadata": {},
   "outputs": [],
   "source": [
    "beacons = scanners[0]\n",
    "rest = scanners[1:]\n",
    "offsets = [(0,0,0)]\n",
    "\n",
    "while rest:\n",
    "    matched, offset = match(beacons, rest[0])\n",
    "    if matched:\n",
    "        beacons |= matched\n",
    "        rest.pop(0)\n",
    "        offsets.append(offset)\n",
    "    else:\n",
    "        rest.append(rest.pop(0))"
   ]
  },
  {
   "cell_type": "code",
   "execution_count": 18,
   "metadata": {},
   "outputs": [
    {
     "data": {
      "text/plain": [
       "365"
      ]
     },
     "execution_count": 18,
     "metadata": {},
     "output_type": "execute_result"
    }
   ],
   "source": [
    "len(beacons)"
   ]
  },
  {
   "cell_type": "code",
   "execution_count": 36,
   "metadata": {},
   "outputs": [
    {
     "data": {
      "text/plain": [
       "11060"
      ]
     },
     "execution_count": 36,
     "metadata": {},
     "output_type": "execute_result"
    }
   ],
   "source": [
    "max_ = 0\n",
    "for c in combinations(range(len(offsets)), 2):\n",
    "    max_ = max(max_, sum([np.abs(a - b) for a, b in zip(offsets[c[0]], offsets[c[1]])]))\n",
    "max_"
   ]
  },
  {
   "cell_type": "code",
   "execution_count": null,
   "metadata": {},
   "outputs": [],
   "source": []
  }
 ],
 "metadata": {
  "kernelspec": {
   "display_name": "Python 3",
   "language": "python",
   "name": "python3"
  },
  "language_info": {
   "codemirror_mode": {
    "name": "ipython",
    "version": 3
   },
   "file_extension": ".py",
   "mimetype": "text/x-python",
   "name": "python",
   "nbconvert_exporter": "python",
   "pygments_lexer": "ipython3",
   "version": "3.8.10"
  }
 },
 "nbformat": 4,
 "nbformat_minor": 4
}
