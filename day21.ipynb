{
 "cells": [
  {
   "cell_type": "code",
   "execution_count": 66,
   "metadata": {},
   "outputs": [],
   "source": [
    "from itertools import cycle, product"
   ]
  },
  {
   "cell_type": "code",
   "execution_count": 67,
   "metadata": {},
   "outputs": [],
   "source": [
    "with open('day21.txt', 'r') as f:\n",
    "    data = f.read()"
   ]
  },
  {
   "cell_type": "code",
   "execution_count": 68,
   "metadata": {},
   "outputs": [],
   "source": [
    "s = [int(line[-1]) for line in data.splitlines()]"
   ]
  },
  {
   "cell_type": "code",
   "execution_count": 69,
   "metadata": {},
   "outputs": [],
   "source": [
    "def play(s1, s2):\n",
    "    state = {0: [s1, 0],\n",
    "             1: [s2, 0]} # position, score\n",
    "    i = 0\n",
    "    dice = cycle(range(1, 101))\n",
    "    while True:\n",
    "        player = i % 2\n",
    "        roll = [next(dice), next(dice), next(dice)]\n",
    "        pos = (sum(roll) + state[player][0] - 1) % 10 + 1\n",
    "        \n",
    "        state[player][0] = pos\n",
    "        state[player][1] += pos\n",
    "        \n",
    "        if state[player][1] >= 1000:\n",
    "            print(state[int(not player)][1] * (i+1)*3)\n",
    "            break\n",
    "        i += 1"
   ]
  },
  {
   "cell_type": "code",
   "execution_count": 70,
   "metadata": {},
   "outputs": [
    {
     "name": "stdout",
     "output_type": "stream",
     "text": [
      "1002474\n"
     ]
    }
   ],
   "source": [
    "play(*s)"
   ]
  },
  {
   "cell_type": "code",
   "execution_count": 104,
   "metadata": {},
   "outputs": [],
   "source": [
    "results = {}\n",
    "    \n",
    "def play(s1, s2, score1=0, score2=0):\n",
    "    s = (s1, s2, score1, score2)\n",
    "    w = [0, 0]        \n",
    "    if s in results:\n",
    "        return results[s]\n",
    "    for roll in product([1, 2, 3], repeat=3):\n",
    "        s1_ = s1 + sum(roll)\n",
    "        s1_ = (s1_ - 1) % 10 + 1\n",
    "        score1_ = s1_ + score1\n",
    "        \n",
    "        if score1_ >= 21:\n",
    "            w[0] += 1\n",
    "        else:\n",
    "            dy, dx = play(s2, s1_, score2, score1_)\n",
    "            w[0] += dx\n",
    "            w[1] += dy\n",
    "    results[s] = w\n",
    "    return w"
   ]
  },
  {
   "cell_type": "code",
   "execution_count": 105,
   "metadata": {},
   "outputs": [
    {
     "data": {
      "text/plain": [
       "919758187195363"
      ]
     },
     "execution_count": 105,
     "metadata": {},
     "output_type": "execute_result"
    }
   ],
   "source": [
    "max(play(*s))"
   ]
  },
  {
   "cell_type": "code",
   "execution_count": null,
   "metadata": {},
   "outputs": [],
   "source": []
  }
 ],
 "metadata": {
  "kernelspec": {
   "display_name": "Python 3",
   "language": "python",
   "name": "python3"
  },
  "language_info": {
   "codemirror_mode": {
    "name": "ipython",
    "version": 3
   },
   "file_extension": ".py",
   "mimetype": "text/x-python",
   "name": "python",
   "nbconvert_exporter": "python",
   "pygments_lexer": "ipython3",
   "version": "3.8.10"
  }
 },
 "nbformat": 4,
 "nbformat_minor": 4
}
