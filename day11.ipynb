{
 "cells": [
  {
   "cell_type": "code",
   "execution_count": 1,
   "metadata": {},
   "outputs": [],
   "source": [
    "from utils import load\n",
    "import numpy as np"
   ]
  },
  {
   "cell_type": "code",
   "execution_count": 2,
   "metadata": {},
   "outputs": [],
   "source": [
    "data = load('day11.txt')\n",
    "data = np.array([[int(c) for c in line] for line in data])\n",
    "data = np.pad(data, (1, 1))\n",
    "\n",
    "all_flashes = 0\n",
    "for i in range(100):\n",
    "    data[1:-1, 1:-1] += 1\n",
    "    flashes = set(zip(*np.where(data > 9)))\n",
    "    if flashes:\n",
    "        flashes_copy = flashes.copy()\n",
    "        while flashes_copy:\n",
    "            row, col = flashes_copy.pop()\n",
    "            data[row-1:row+2, col-1:col+2] += 1\n",
    "            data[row, col] = 0\n",
    "            flashes |= set(zip(*np.where(data > 9)))\n",
    "            flashes_copy |= set(zip(*np.where(data > 9)))\n",
    "        data[0, :] = 0\n",
    "        data[-1, :] = 0\n",
    "        data[:, 0] = 0\n",
    "        data[:, -1] = 0\n",
    "        data[tuple(np.array(list(flashes)).T)] = 0\n",
    "    all_flashes += len(flashes)"
   ]
  },
  {
   "cell_type": "code",
   "execution_count": 189,
   "metadata": {},
   "outputs": [
    {
     "data": {
      "text/plain": [
       "1749"
      ]
     },
     "execution_count": 189,
     "metadata": {},
     "output_type": "execute_result"
    }
   ],
   "source": [
    "all_flashes"
   ]
  },
  {
   "cell_type": "code",
   "execution_count": 194,
   "metadata": {},
   "outputs": [
    {
     "name": "stdout",
     "output_type": "stream",
     "text": [
      "285\n"
     ]
    }
   ],
   "source": [
    "data = load('day11.txt')\n",
    "data = np.array([[int(c) for c in line] for line in data])\n",
    "data = np.pad(data, (1, 1))\n",
    "\n",
    "for i in range(1000):\n",
    "    data[1:-1, 1:-1] += 1\n",
    "    flashes = set(zip(*np.where(data > 9)))\n",
    "    if flashes:\n",
    "        flashes_copy = flashes.copy()\n",
    "        while flashes_copy:\n",
    "            row, col = flashes_copy.pop()\n",
    "            data[row-1:row+2, col-1:col+2] += 1\n",
    "            data[row, col] = 0\n",
    "            flashes |= set(zip(*np.where(data > 9)))\n",
    "            flashes_copy |= set(zip(*np.where(data > 9)))\n",
    "        data[0, :] = 0\n",
    "        data[-1, :] = 0\n",
    "        data[:, 0] = 0\n",
    "        data[:, -1] = 0\n",
    "        data[tuple(np.array(list(flashes)).T)] = 0\n",
    "    if data.sum() == 0:\n",
    "        print(i+1)\n",
    "        break"
   ]
  },
  {
   "cell_type": "code",
   "execution_count": null,
   "metadata": {},
   "outputs": [],
   "source": []
  }
 ],
 "metadata": {
  "kernelspec": {
   "display_name": "Python 3",
   "language": "python",
   "name": "python3"
  },
  "language_info": {
   "codemirror_mode": {
    "name": "ipython",
    "version": 3
   },
   "file_extension": ".py",
   "mimetype": "text/x-python",
   "name": "python",
   "nbconvert_exporter": "python",
   "pygments_lexer": "ipython3",
   "version": "3.8.10"
  }
 },
 "nbformat": 4,
 "nbformat_minor": 4
}
