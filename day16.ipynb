{
 "cells": [
  {
   "cell_type": "code",
   "execution_count": 130,
   "metadata": {},
   "outputs": [],
   "source": [
    "from utils import load"
   ]
  },
  {
   "cell_type": "code",
   "execution_count": 131,
   "metadata": {},
   "outputs": [],
   "source": [
    "data = load('day16.txt')\n",
    "data = list(bin(int(data[0], 16))[2:].zfill(len(data[0]) * 4))"
   ]
  },
  {
   "cell_type": "code",
   "execution_count": 132,
   "metadata": {},
   "outputs": [],
   "source": [
    "def parse_packet(packet):\n",
    "    version = int(''.join(packet[:3]), 2)\n",
    "    packet[:] = packet[3:]\n",
    "    type_id = int(''.join(packet[:3]), 2)\n",
    "    packet[:] = packet[3:]\n",
    "    \n",
    "    if type_id == 4:\n",
    "        literal = []\n",
    "        while True:\n",
    "            I = packet.pop(0)\n",
    "            literal += packet[:4]\n",
    "            packet[:] = packet[4:]\n",
    "            if I == '0':\n",
    "                break\n",
    "        literal = int(''.join(literal), 2)\n",
    "        return (version, type_id, literal)\n",
    "    else:\n",
    "        packets = []\n",
    "        length_type_id = packet.pop(0)\n",
    "        if length_type_id == '0':\n",
    "            subpackets_len = int(''.join(packet[:15]), 2)\n",
    "            packet[:] = packet[15:]\n",
    "            subpackets = packet[:subpackets_len]\n",
    "            packet[:] = packet[subpackets_len:]\n",
    "            while subpackets:\n",
    "                packets.append(parse_packet(subpackets))\n",
    "        else:\n",
    "            subpackets_num = int(''.join(packet[:11]), 2)\n",
    "            packet[:] = packet[11:]\n",
    "            for i in range(subpackets_num):\n",
    "                packets.append(parse_packet(packet))\n",
    "        return (version, type_id, packets)"
   ]
  },
  {
   "cell_type": "code",
   "execution_count": 133,
   "metadata": {},
   "outputs": [],
   "source": [
    "parsed = parse_packet(data)"
   ]
  },
  {
   "cell_type": "code",
   "execution_count": 134,
   "metadata": {},
   "outputs": [],
   "source": [
    "def vsum(data):\n",
    "    version = data[0]\n",
    "    if data[1] == 4:\n",
    "        return version\n",
    "    else:\n",
    "        return version + sum(map(vsum, data[2]))"
   ]
  },
  {
   "cell_type": "code",
   "execution_count": 135,
   "metadata": {},
   "outputs": [
    {
     "data": {
      "text/plain": [
       "938"
      ]
     },
     "execution_count": 135,
     "metadata": {},
     "output_type": "execute_result"
    }
   ],
   "source": [
    "vsum(parsed)"
   ]
  },
  {
   "cell_type": "code",
   "execution_count": 136,
   "metadata": {},
   "outputs": [],
   "source": [
    "def calc(data):\n",
    "    if data[1] == 0:\n",
    "        return sum(map(calc, data[2]))\n",
    "    elif data[1] == 1:\n",
    "        t = 1\n",
    "        for payload in data[2]:\n",
    "            t *= calc(payload)\n",
    "        return t\n",
    "    elif data[1] == 2:\n",
    "        return min(map(calc, data[2]))\n",
    "    elif data[1] == 3:\n",
    "        return max(map(calc, data[2]))\n",
    "    elif data[1] == 4:\n",
    "        return data[2]\n",
    "    elif data[1] == 5:\n",
    "        return calc(data[2][0]) > calc(data[2][1])\n",
    "    elif data[1] == 6:\n",
    "        return calc(data[2][0]) < calc(data[2][1])\n",
    "    elif data[1] == 7:\n",
    "        return calc(data[2][0]) == calc(data[2][1])"
   ]
  },
  {
   "cell_type": "code",
   "execution_count": 137,
   "metadata": {},
   "outputs": [
    {
     "data": {
      "text/plain": [
       "1495959086337"
      ]
     },
     "execution_count": 137,
     "metadata": {},
     "output_type": "execute_result"
    }
   ],
   "source": [
    "calc(parsed)"
   ]
  },
  {
   "cell_type": "code",
   "execution_count": null,
   "metadata": {},
   "outputs": [],
   "source": []
  }
 ],
 "metadata": {
  "kernelspec": {
   "display_name": "Python 3",
   "language": "python",
   "name": "python3"
  },
  "language_info": {
   "codemirror_mode": {
    "name": "ipython",
    "version": 3
   },
   "file_extension": ".py",
   "mimetype": "text/x-python",
   "name": "python",
   "nbconvert_exporter": "python",
   "pygments_lexer": "ipython3",
   "version": "3.8.10"
  }
 },
 "nbformat": 4,
 "nbformat_minor": 4
}
