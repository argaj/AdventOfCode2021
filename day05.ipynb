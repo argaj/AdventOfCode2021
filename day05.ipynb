{
 "cells": [
  {
   "cell_type": "code",
   "execution_count": 140,
   "metadata": {},
   "outputs": [],
   "source": [
    "from utils import load\n",
    "import numpy as np"
   ]
  },
  {
   "cell_type": "code",
   "execution_count": 235,
   "metadata": {},
   "outputs": [],
   "source": [
    "data = load('day05.txt')"
   ]
  },
  {
   "cell_type": "code",
   "execution_count": 236,
   "metadata": {},
   "outputs": [],
   "source": [
    "def process_row(row):\n",
    "    row = row.split(' -> ')\n",
    "    row = [pair.split(',') for pair in row]\n",
    "    row = [[int(value) for value in pair] for pair in row]\n",
    "    return row"
   ]
  },
  {
   "cell_type": "code",
   "execution_count": 237,
   "metadata": {},
   "outputs": [],
   "source": [
    "data = list(map(process_row, data))"
   ]
  },
  {
   "cell_type": "code",
   "execution_count": 244,
   "metadata": {},
   "outputs": [],
   "source": [
    "def magic(data, part2=False):\n",
    "    max_ = np.array(data).max() + 1\n",
    "    arr = np.zeros((max_, max_), dtype=int)\n",
    "\n",
    "    for coords in data:\n",
    "        y1, x1 = coords[0]\n",
    "        y2, x2 = coords[1]\n",
    "           \n",
    "        if x1 == x2:\n",
    "            if y2 < y1:\n",
    "                y1, y2 = y2, y1\n",
    "            arr[x1, range(y1, y2 + 1)] += 1\n",
    "        elif y1 == y2:\n",
    "            if x2 < x1:\n",
    "                x1, x2 = x2, x1\n",
    "            arr[range(x1, x2 + 1), y1] += 1\n",
    "        elif part2:\n",
    "            diag = np.eye(np.abs(y2 - y1) + 1, dtype=int)\n",
    "            if x1 < x2 and y1 > y2 or x1 > x2 and y2 > y1: #counterdiagonal\n",
    "                diag = np.fliplr(diag)\n",
    "            if y2 < y1:\n",
    "                y1, y2 = y2, y1\n",
    "            if x2 < x1:\n",
    "                x1, x2 = x2, x1\n",
    "            arr[x1:x2 + 1, y1:y2 + 1] += diag\n",
    "    return len(np.where(arr > 1)[0])"
   ]
  },
  {
   "cell_type": "code",
   "execution_count": 245,
   "metadata": {},
   "outputs": [
    {
     "data": {
      "text/plain": [
       "5167"
      ]
     },
     "execution_count": 245,
     "metadata": {},
     "output_type": "execute_result"
    }
   ],
   "source": [
    "magic(data, part2=False)"
   ]
  },
  {
   "cell_type": "code",
   "execution_count": 246,
   "metadata": {},
   "outputs": [
    {
     "data": {
      "text/plain": [
       "17604"
      ]
     },
     "execution_count": 246,
     "metadata": {},
     "output_type": "execute_result"
    }
   ],
   "source": [
    "magic(data, part2=True)"
   ]
  }
 ],
 "metadata": {
  "kernelspec": {
   "display_name": "Python 3",
   "language": "python",
   "name": "python3"
  },
  "language_info": {
   "codemirror_mode": {
    "name": "ipython",
    "version": 3
   },
   "file_extension": ".py",
   "mimetype": "text/x-python",
   "name": "python",
   "nbconvert_exporter": "python",
   "pygments_lexer": "ipython3",
   "version": "3.8.10"
  }
 },
 "nbformat": 4,
 "nbformat_minor": 4
}
