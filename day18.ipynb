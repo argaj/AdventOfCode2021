{
 "cells": [
  {
   "cell_type": "code",
   "execution_count": 20,
   "metadata": {},
   "outputs": [],
   "source": [
    "from utils import load\n",
    "from copy import deepcopy\n",
    "from functools import reduce\n",
    "from itertools import permutations\n",
    "from math import floor, ceil\n",
    "import ast\n",
    "\n",
    "class Num:\n",
    "    def __init__(self, value):\n",
    "        self.value = value\n",
    "    \n",
    "    def __repr__(self):\n",
    "        return str(self.value)\n",
    "\n",
    "class SnailNumber:  \n",
    "    def __init__(self, left, right):\n",
    "        self._number = [left, right]\n",
    "    \n",
    "    @classmethod\n",
    "    def from_str(cls, snail_number):\n",
    "        return cls.from_list(ast.literal_eval(snail_number))\n",
    "    \n",
    "    @classmethod\n",
    "    def from_list(cls, snail_number):\n",
    "        def _from_list(snail_number):\n",
    "            if type(snail_number) == int:\n",
    "                return Num(snail_number)\n",
    "            elif all(isinstance(x, int) for x in snail_number):\n",
    "                return SnailNumber(Num(snail_number[0]), Num(snail_number[1]))\n",
    "            else:\n",
    "                return SnailNumber(_from_list(snail_number[0]), _from_list(snail_number[1]))\n",
    "        return _from_list(snail_number)\n",
    "    \n",
    "    @property\n",
    "    def left(self):\n",
    "        return self._number[0]\n",
    "\n",
    "    @property\n",
    "    def right(self):\n",
    "        return self._number[1]\n",
    "    \n",
    "    def __add__(self, other):\n",
    "        res = SnailNumber(self, other)\n",
    "        res.reduce()\n",
    "        return res\n",
    "    \n",
    "    def __getitem__(self, item):\n",
    "        return self._number[item]\n",
    "    \n",
    "    def __setitem__(self, index, value):\n",
    "        self._number[index] = value\n",
    "    \n",
    "    def __repr__(self):\n",
    "        return str([self.left, self.right])\n",
    "    \n",
    "    def _preorder(self):\n",
    "        lst = []\n",
    "        def __preorder(nr):\n",
    "            if isinstance(nr, Num):\n",
    "                lst.append(nr)\n",
    "            else:\n",
    "                __preorder(nr.left)\n",
    "                __preorder(nr.right)\n",
    "        __preorder(self.left)\n",
    "        __preorder(self.right)\n",
    "        return lst\n",
    "\n",
    "    def _explode(self):\n",
    "        preorder = self._preorder()\n",
    "        def __explode(nr, depth=0, parent=None, side=None):\n",
    "            if isinstance(nr, Num):\n",
    "                return\n",
    "            if depth >= 4 and isinstance(nr.left, Num) and isinstance(nr.right, Num):\n",
    "                idx_left = preorder.index(nr.left)\n",
    "                idx_right = preorder.index(nr.right)\n",
    "                if 0 < idx_left:\n",
    "                    preorder[idx_left - 1].value += preorder[idx_left].value\n",
    "                if idx_right < len(preorder) - 1:\n",
    "                    preorder[idx_right + 1].value += preorder[idx_right].value\n",
    "                if side == 'left':\n",
    "                    parent[0] = Num(0)\n",
    "                else:\n",
    "                    parent[1] = Num(0)\n",
    "                return True\n",
    "            return __explode(nr.left, depth+1, nr, 'left') or __explode(nr.right, depth+1, nr, 'right')\n",
    "        return __explode(self)\n",
    "    \n",
    "    def _split(self):\n",
    "        def __split(nr, parent=None, side=None):\n",
    "            if isinstance(nr, Num):\n",
    "                if nr.value >= 10:\n",
    "                    new_nr = SnailNumber(Num(floor(nr.value / 2)), Num(ceil(nr.value / 2)))\n",
    "                    if side == 'left':\n",
    "                        parent[0] = new_nr\n",
    "                    else:\n",
    "                        parent[1] = new_nr\n",
    "                    return True\n",
    "                else:\n",
    "                    return False\n",
    "            return __split(nr.left, nr, 'left') or __split(nr.right, nr, 'right')\n",
    "        return __split(self)\n",
    "    \n",
    "    def reduce(self):\n",
    "        while self._explode() or self._split():\n",
    "            continue\n",
    "    \n",
    "    def magnitude(self):\n",
    "        def _magnitude(nr):\n",
    "            if isinstance(nr, Num):\n",
    "                return nr.value\n",
    "            else:\n",
    "                return 3*_magnitude(nr.left) + 2*_magnitude(nr.right)\n",
    "        return _magnitude(self)    "
   ]
  },
  {
   "cell_type": "code",
   "execution_count": 24,
   "metadata": {},
   "outputs": [
    {
     "data": {
      "text/plain": [
       "3806"
      ]
     },
     "execution_count": 24,
     "metadata": {},
     "output_type": "execute_result"
    }
   ],
   "source": [
    "data = load('day18.txt')\n",
    "data2 = [SnailNumber.from_str(i) for i in data]\n",
    "reduce(lambda x, y: x + y, data2).magnitude()"
   ]
  },
  {
   "cell_type": "code",
   "execution_count": 25,
   "metadata": {},
   "outputs": [
    {
     "data": {
      "text/plain": [
       "4727"
      ]
     },
     "execution_count": 25,
     "metadata": {},
     "output_type": "execute_result"
    }
   ],
   "source": [
    "data2 = [SnailNumber.from_str(i) for i in data]\n",
    "magnitudes = []\n",
    "for c in permutations(data2, 2):\n",
    "    magnitudes.append((deepcopy(c[0]) + deepcopy(c[1])).magnitude())\n",
    "max(magnitudes)"
   ]
  },
  {
   "cell_type": "code",
   "execution_count": null,
   "metadata": {},
   "outputs": [],
   "source": []
  }
 ],
 "metadata": {
  "kernelspec": {
   "display_name": "Python 3",
   "language": "python",
   "name": "python3"
  },
  "language_info": {
   "codemirror_mode": {
    "name": "ipython",
    "version": 3
   },
   "file_extension": ".py",
   "mimetype": "text/x-python",
   "name": "python",
   "nbconvert_exporter": "python",
   "pygments_lexer": "ipython3",
   "version": "3.8.10"
  }
 },
 "nbformat": 4,
 "nbformat_minor": 4
}
