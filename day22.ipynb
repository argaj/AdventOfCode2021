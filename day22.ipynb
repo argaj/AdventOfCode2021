{
 "cells": [
  {
   "cell_type": "code",
   "execution_count": 64,
   "metadata": {},
   "outputs": [],
   "source": [
    "from utils import load\n",
    "from collections import defaultdict"
   ]
  },
  {
   "cell_type": "code",
   "execution_count": 65,
   "metadata": {},
   "outputs": [],
   "source": [
    "data = load('day22.txt')"
   ]
  },
  {
   "cell_type": "code",
   "execution_count": 66,
   "metadata": {},
   "outputs": [],
   "source": [
    "data = [line.split() for line in data]"
   ]
  },
  {
   "cell_type": "code",
   "execution_count": 67,
   "metadata": {},
   "outputs": [],
   "source": [
    "def f(str_):\n",
    "    str_ = str_.split('=')\n",
    "    str_[1] = [int(c) for c in str_[1].split('..')]\n",
    "    return str_[1]"
   ]
  },
  {
   "cell_type": "code",
   "execution_count": 68,
   "metadata": {},
   "outputs": [],
   "source": [
    "data = [[line[0], list(map(f, line[1].split(',')))] for line in data]"
   ]
  },
  {
   "cell_type": "code",
   "execution_count": 55,
   "metadata": {},
   "outputs": [],
   "source": [
    "class Cube:\n",
    "    def __init__(self, x1, x2, y1, y2, z1, z2):\n",
    "        self.x1 = x1\n",
    "        self.x2 = x2\n",
    "        self.y1 = y1\n",
    "        self.y2 = y2\n",
    "        self.z1 = z1\n",
    "        self.z2 = z2\n",
    "                \n",
    "    def intersection(self, other):\n",
    "        x1, y1, z1 = max(self.x1, other.x1), max(self.y1, other.y1), max(self.z1, other.z1)\n",
    "        x2, y2, z2 = min(self.x2, other.x2), min(self.y2, other.y2), min(self.z2, other.z2)\n",
    "        if x1 <= x2 and y1 <= y2 and z1 <= z2:\n",
    "            return Cube(x1, x2, y1, y2, z1, z2)\n",
    "    \n",
    "    def __and__(self, other):\n",
    "        return self.intersection(other)\n",
    "    \n",
    "    def __repr__(self):\n",
    "        return f'Cube: {self.x1, self.x2, self.y1, self.y2, self.z1, self.z2}'\n",
    "    \n",
    "    def __hash__(self):\n",
    "        return hash((self.x1, self.x2, self.y1, self.y2, self.z1, self.z2))\n",
    "    \n",
    "    @property\n",
    "    def size(self):\n",
    "        return (self.x2 - self.x1 + 1) * (self.y2 - self.y1 + 1) * (self.z2 - self.z1 + 1)"
   ]
  },
  {
   "cell_type": "code",
   "execution_count": 91,
   "metadata": {},
   "outputs": [],
   "source": [
    "# https://www.reddit.com/r/adventofcode/comments/rlxhmg/comment/hpj7ivm/\n",
    "\n",
    "def solve(data):\n",
    "    cubes = defaultdict(int)\n",
    "    for state, cube_dims in data:\n",
    "        cube = Cube(*cube_dims[0], *cube_dims[1], *cube_dims[2])\n",
    "        for old in cubes.copy():\n",
    "            c = cube & old\n",
    "            if c:\n",
    "                cubes[c] -= cubes[old]\n",
    "        if state == \"on\":\n",
    "            cubes[cube] = 1\n",
    "    return sum(c.size*v for c,v in cubes.items())"
   ]
  },
  {
   "cell_type": "code",
   "execution_count": 92,
   "metadata": {},
   "outputs": [
    {
     "data": {
      "text/plain": [
       "527915"
      ]
     },
     "execution_count": 92,
     "metadata": {},
     "output_type": "execute_result"
    }
   ],
   "source": [
    "solve(data[:20])"
   ]
  },
  {
   "cell_type": "code",
   "execution_count": 93,
   "metadata": {},
   "outputs": [
    {
     "data": {
      "text/plain": [
       "1218645427221987"
      ]
     },
     "execution_count": 93,
     "metadata": {},
     "output_type": "execute_result"
    }
   ],
   "source": [
    "solve(data)"
   ]
  },
  {
   "cell_type": "code",
   "execution_count": null,
   "metadata": {},
   "outputs": [],
   "source": []
  }
 ],
 "metadata": {
  "kernelspec": {
   "display_name": "Python 3",
   "language": "python",
   "name": "python3"
  },
  "language_info": {
   "codemirror_mode": {
    "name": "ipython",
    "version": 3
   },
   "file_extension": ".py",
   "mimetype": "text/x-python",
   "name": "python",
   "nbconvert_exporter": "python",
   "pygments_lexer": "ipython3",
   "version": "3.8.10"
  }
 },
 "nbformat": 4,
 "nbformat_minor": 4
}
