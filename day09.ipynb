{
 "cells": [
  {
   "cell_type": "code",
   "execution_count": 23,
   "metadata": {},
   "outputs": [],
   "source": [
    "from utils import load\n",
    "import numpy as np\n",
    "from functools import reduce\n",
    "import operator"
   ]
  },
  {
   "cell_type": "code",
   "execution_count": 32,
   "metadata": {},
   "outputs": [],
   "source": [
    "data = load('day09.txt')"
   ]
  },
  {
   "cell_type": "code",
   "execution_count": 33,
   "metadata": {},
   "outputs": [],
   "source": [
    "data = np.array([[int(c) for c in row] for row in data])"
   ]
  },
  {
   "cell_type": "code",
   "execution_count": 34,
   "metadata": {},
   "outputs": [],
   "source": [
    "data = np.pad(data, (1, 1), constant_values=9)"
   ]
  },
  {
   "cell_type": "code",
   "execution_count": 35,
   "metadata": {},
   "outputs": [],
   "source": [
    "low_points = []\n",
    "low_points_coords = []\n",
    "for row in range(1, data.shape[0] - 1):\n",
    "    for col in range(1, data.shape[1] - 1):\n",
    "        neighbours = [data[row-1, col], data[row+1, col], data[row, col-1], data[row, col+1]]\n",
    "        if all(neighbour > data[row, col] for neighbour in neighbours):\n",
    "            low_points.append(data[row, col])\n",
    "            low_points_coords.append((row, col))"
   ]
  },
  {
   "cell_type": "code",
   "execution_count": 36,
   "metadata": {},
   "outputs": [
    {
     "data": {
      "text/plain": [
       "491"
      ]
     },
     "execution_count": 36,
     "metadata": {},
     "output_type": "execute_result"
    }
   ],
   "source": [
    "len(low_points) + sum(low_points)"
   ]
  },
  {
   "cell_type": "code",
   "execution_count": 37,
   "metadata": {},
   "outputs": [],
   "source": [
    "def find_basin(data, low_point_coords):\n",
    "    def rec(data, low_point_coords, basin, direction):\n",
    "        row, col = low_point_coords\n",
    "        if data[row, col] == 9 or low_point_coords in basin:\n",
    "            return\n",
    "        else:\n",
    "            basin.append(low_point_coords)\n",
    "            if direction == 'left':\n",
    "                rec(data, (row - 1, col), basin, 'up')\n",
    "                rec(data, (row + 1, col), basin, 'down')\n",
    "                rec(data, (row, col - 1), basin, 'left')\n",
    "            elif direction == 'right':\n",
    "                rec(data, (row - 1, col), basin, 'up')\n",
    "                rec(data, (row + 1, col), basin, 'down')\n",
    "                rec(data, (row, col + 1), basin, 'right')\n",
    "            elif direction == 'up':\n",
    "                rec(data, (row - 1, col), basin, 'up')\n",
    "                rec(data, (row, col - 1), basin, 'left')\n",
    "                rec(data, (row, col + 1), basin, 'right')\n",
    "            elif direction == 'down':\n",
    "                rec(data, (row + 1, col), basin, 'down')\n",
    "                rec(data, (row, col - 1), basin, 'left')\n",
    "                rec(data, (row, col + 1), basin, 'right')\n",
    "            elif direction == 'all':\n",
    "                rec(data, (row - 1, col), basin, 'up')\n",
    "                rec(data, (row + 1, col), basin, 'down')\n",
    "                rec(data, (row, col - 1), basin, 'left')\n",
    "                rec(data, (row, col + 1), basin, 'right')\n",
    "    basin = []\n",
    "    rec(data, low_point_coords, basin, direction='all')\n",
    "    return basin"
   ]
  },
  {
   "cell_type": "code",
   "execution_count": 38,
   "metadata": {},
   "outputs": [
    {
     "data": {
      "text/plain": [
       "1075536"
      ]
     },
     "execution_count": 38,
     "metadata": {},
     "output_type": "execute_result"
    }
   ],
   "source": [
    "reduce(operator.mul, sorted([len(find_basin(data, coords)) for coords in low_points_coords])[-3:])"
   ]
  },
  {
   "cell_type": "code",
   "execution_count": null,
   "metadata": {},
   "outputs": [],
   "source": []
  }
 ],
 "metadata": {
  "kernelspec": {
   "display_name": "Python 3",
   "language": "python",
   "name": "python3"
  },
  "language_info": {
   "codemirror_mode": {
    "name": "ipython",
    "version": 3
   },
   "file_extension": ".py",
   "mimetype": "text/x-python",
   "name": "python",
   "nbconvert_exporter": "python",
   "pygments_lexer": "ipython3",
   "version": "3.8.10"
  }
 },
 "nbformat": 4,
 "nbformat_minor": 4
}
