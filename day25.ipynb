{
 "cells": [
  {
   "cell_type": "code",
   "execution_count": 6,
   "metadata": {},
   "outputs": [],
   "source": [
    "from utils import load\n",
    "import numpy as np"
   ]
  },
  {
   "cell_type": "code",
   "execution_count": 72,
   "metadata": {},
   "outputs": [],
   "source": [
    "data = load('day25.txt')"
   ]
  },
  {
   "cell_type": "code",
   "execution_count": 73,
   "metadata": {},
   "outputs": [],
   "source": [
    "data = [[c for c in line] for line in data]"
   ]
  },
  {
   "cell_type": "code",
   "execution_count": 75,
   "metadata": {},
   "outputs": [],
   "source": [
    "east = set()\n",
    "south = set()\n",
    "\n",
    "for row, line in enumerate(data):\n",
    "    for col, char in enumerate(line):\n",
    "        if char == '>':\n",
    "            east.add((row, col))\n",
    "        elif char == 'v':\n",
    "            south.add((row, col))\n",
    "\n",
    "i = 0\n",
    "\n",
    "while True:\n",
    "    new_east = set()\n",
    "    new_south = set()\n",
    "    \n",
    "    current_all = east | south\n",
    "    \n",
    "    for row, col in east:\n",
    "        new = (row, (col + 1) % len(data[0]))\n",
    "        if new in current_all:\n",
    "            new_east.add((row, col))\n",
    "        else:\n",
    "            new_east.add(new)\n",
    "       \n",
    "    current_all = new_east | south\n",
    "    \n",
    "    for row, col in south:\n",
    "        new = ((row + 1) % len(data), col)\n",
    "        if new in current_all:\n",
    "            new_south.add((row, col))\n",
    "        else:\n",
    "            new_south.add(new)           \n",
    "            \n",
    "    i += 1\n",
    "    if new_east == east and new_south == south:\n",
    "        break\n",
    "    east = new_east\n",
    "    south = new_south "
   ]
  },
  {
   "cell_type": "code",
   "execution_count": 76,
   "metadata": {},
   "outputs": [
    {
     "data": {
      "text/plain": [
       "507"
      ]
     },
     "execution_count": 76,
     "metadata": {},
     "output_type": "execute_result"
    }
   ],
   "source": [
    "i"
   ]
  },
  {
   "cell_type": "code",
   "execution_count": null,
   "metadata": {},
   "outputs": [],
   "source": []
  }
 ],
 "metadata": {
  "kernelspec": {
   "display_name": "Python 3",
   "language": "python",
   "name": "python3"
  },
  "language_info": {
   "codemirror_mode": {
    "name": "ipython",
    "version": 3
   },
   "file_extension": ".py",
   "mimetype": "text/x-python",
   "name": "python",
   "nbconvert_exporter": "python",
   "pygments_lexer": "ipython3",
   "version": "3.8.10"
  }
 },
 "nbformat": 4,
 "nbformat_minor": 4
}
