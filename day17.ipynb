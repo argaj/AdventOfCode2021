{
 "cells": [
  {
   "cell_type": "code",
   "execution_count": 2,
   "metadata": {},
   "outputs": [],
   "source": [
    "data = open('day17.txt', 'r').readline()"
   ]
  },
  {
   "cell_type": "code",
   "execution_count": 110,
   "metadata": {},
   "outputs": [],
   "source": [
    "tx = [int(i) for i in data[data.index('x')+2:data.index('x')+10].split('..')]\n",
    "ty = [int(i) for i in data[data.index('y')+2:data.index('y')+11].split('..')]\n",
    "target_area = (tx, ty)"
   ]
  },
  {
   "cell_type": "code",
   "execution_count": 104,
   "metadata": {},
   "outputs": [],
   "source": [
    "def magic(velocity, target_area):\n",
    "    tx, ty = target_area\n",
    "    x, y = 0, 0\n",
    "    dx, dy = velocity\n",
    "    max_y = y\n",
    "    for i in range(1000):\n",
    "        x += dx\n",
    "        y += dy\n",
    "        max_y = max(max_y, y)\n",
    "        dx = max(0, dx-1) if x > 0 else min(0, dx+1)\n",
    "        dy -= 1\n",
    "        if tx[0] <= x <= tx[1] and ty[0] <= y <= ty[1]:\n",
    "            #print('jackpot', max_y)\n",
    "            return max_y\n",
    "        if x > tx[1] and y < ty[0]:\n",
    "            break"
   ]
  },
  {
   "cell_type": "code",
   "execution_count": 109,
   "metadata": {},
   "outputs": [],
   "source": [
    "test_area = ([20, 30], [-10, -5])"
   ]
  },
  {
   "cell_type": "code",
   "execution_count": 128,
   "metadata": {},
   "outputs": [
    {
     "name": "stdout",
     "output_type": "stream",
     "text": [
      "100 -100\n",
      "100 0\n",
      "100 100\n",
      "100 200\n",
      "100 300\n",
      "100 400\n",
      "100 500\n",
      "100 600\n",
      "100 700\n",
      "100 800\n",
      "100 900\n",
      "200 -100\n",
      "200 0\n",
      "200 100\n",
      "200 200\n",
      "200 300\n",
      "200 400\n",
      "200 500\n",
      "200 600\n",
      "200 700\n",
      "200 800\n",
      "200 900\n"
     ]
    }
   ],
   "source": [
    "results = []\n",
    "for x in range(1, 300):\n",
    "    for y in range(-110, 1000):\n",
    "        res = magic((x,y), target_area)\n",
    "        if res != None:\n",
    "            results.append([(x,y),res])"
   ]
  },
  {
   "cell_type": "code",
   "execution_count": 129,
   "metadata": {},
   "outputs": [
    {
     "data": {
      "text/plain": [
       "[(21, 106), 5671]"
      ]
     },
     "execution_count": 129,
     "metadata": {},
     "output_type": "execute_result"
    }
   ],
   "source": [
    "max(results, key=lambda item: item[1])"
   ]
  },
  {
   "cell_type": "code",
   "execution_count": 131,
   "metadata": {},
   "outputs": [
    {
     "data": {
      "text/plain": [
       "4556"
      ]
     },
     "execution_count": 131,
     "metadata": {},
     "output_type": "execute_result"
    }
   ],
   "source": [
    "len(results)"
   ]
  },
  {
   "cell_type": "code",
   "execution_count": null,
   "metadata": {},
   "outputs": [],
   "source": []
  }
 ],
 "metadata": {
  "kernelspec": {
   "display_name": "Python 3",
   "language": "python",
   "name": "python3"
  },
  "language_info": {
   "codemirror_mode": {
    "name": "ipython",
    "version": 3
   },
   "file_extension": ".py",
   "mimetype": "text/x-python",
   "name": "python",
   "nbconvert_exporter": "python",
   "pygments_lexer": "ipython3",
   "version": "3.8.10"
  }
 },
 "nbformat": 4,
 "nbformat_minor": 5
}
